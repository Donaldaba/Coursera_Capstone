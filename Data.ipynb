{
 "cells": [
  {
   "cell_type": "markdown",
   "metadata": {
    "collapsed": true
   },
   "source": [
    "# DATA DESCRIPTION"
   ]
  },
  {
   "cell_type": "markdown",
   "metadata": {},
   "source": [
    "We are going to explore the two cities' data with Foursquare API services in order to solve this problem. These data will be composed of information about the different neighborhood and their hotels, coffee shops, parks, theaters, art galleries, museums and more. We are going to select an area defined by a borough for each city for our study, Manhattan in New York and Downtown Toronto in Toronto. To do the segmentation of neighborhoods with similar objects base on each neighborhood data we are going to use Clustering as our machine learning technique. Priority will be givent to activities in these neighborhood in order to localized the busiest area where we can find tourists, workers etc. and then we could make a judgement of the similarity or dissimilarity between these two cities. "
   ]
  }
 ],
 "metadata": {
  "kernelspec": {
   "display_name": "Python 3.7",
   "language": "python",
   "name": "python3"
  },
  "language_info": {
   "codemirror_mode": {
    "name": "ipython",
    "version": 3
   },
   "file_extension": ".py",
   "mimetype": "text/x-python",
   "name": "python",
   "nbconvert_exporter": "python",
   "pygments_lexer": "ipython3",
   "version": "3.7.9"
  }
 },
 "nbformat": 4,
 "nbformat_minor": 1
}
