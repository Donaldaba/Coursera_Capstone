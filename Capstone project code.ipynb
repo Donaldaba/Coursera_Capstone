{
 "cells": [
  {
   "cell_type": "markdown",
   "metadata": {
    "collapsed": true
   },
   "source": [
    "### Clustering - The Battle of Neighborhoods"
   ]
  },
  {
   "cell_type": "markdown",
   "metadata": {},
   "source": [
    "###### PREPROCESSING"
   ]
  },
  {
   "cell_type": "code",
   "execution_count": 32,
   "metadata": {},
   "outputs": [
    {
     "name": "stdout",
     "output_type": "stream",
     "text": [
      "Requirement already satisfied: folium==0.5.0 in /opt/conda/envs/Python-3.7-main/lib/python3.7/site-packages (0.5.0)\n",
      "Requirement already satisfied: branca in /opt/conda/envs/Python-3.7-main/lib/python3.7/site-packages (from folium==0.5.0) (0.4.1)\n",
      "Requirement already satisfied: requests in /opt/conda/envs/Python-3.7-main/lib/python3.7/site-packages (from folium==0.5.0) (2.24.0)\n",
      "Requirement already satisfied: six in /opt/conda/envs/Python-3.7-main/lib/python3.7/site-packages (from folium==0.5.0) (1.15.0)\n",
      "Requirement already satisfied: jinja2 in /opt/conda/envs/Python-3.7-main/lib/python3.7/site-packages (from folium==0.5.0) (2.11.2)\n",
      "Requirement already satisfied: certifi>=2017.4.17 in /opt/conda/envs/Python-3.7-main/lib/python3.7/site-packages (from requests->folium==0.5.0) (2020.6.20)\n",
      "Requirement already satisfied: chardet<4,>=3.0.2 in /opt/conda/envs/Python-3.7-main/lib/python3.7/site-packages (from requests->folium==0.5.0) (3.0.4)\n",
      "Requirement already satisfied: urllib3!=1.25.0,!=1.25.1,<1.26,>=1.21.1 in /opt/conda/envs/Python-3.7-main/lib/python3.7/site-packages (from requests->folium==0.5.0) (1.25.9)\n",
      "Requirement already satisfied: idna<3,>=2.5 in /opt/conda/envs/Python-3.7-main/lib/python3.7/site-packages (from requests->folium==0.5.0) (2.9)\n",
      "Requirement already satisfied: MarkupSafe>=0.23 in /opt/conda/envs/Python-3.7-main/lib/python3.7/site-packages (from jinja2->folium==0.5.0) (1.1.1)\n",
      "Libraries imported.\n"
     ]
    },
    {
     "data": {
      "text/plain": [
       "'/home/wsuser/work'"
      ]
     },
     "execution_count": 32,
     "metadata": {},
     "output_type": "execute_result"
    }
   ],
   "source": [
    "import numpy as np # linear algebra\n",
    "import pandas as pd # data processing, CSV file I/O (e.g. pd.read_csv)\n",
    "\n",
    "# Visualization\n",
    "import matplotlib.pyplot\n",
    "import seaborn as sns\n",
    "# Too see full dataframe...\n",
    "pd.set_option('display.max_columns', None)\n",
    "pd.set_option('display.max_rows', None)\n",
    "pd.set_option('display.width', None)\n",
    "\n",
    "import json # library to handle JSON files\n",
    "\n",
    "from geopy.geocoders import Nominatim # convert an address into latitude and longitude values\n",
    "\n",
    "import requests # library to handle requests\n",
    "\n",
    "from pandas.io.json import json_normalize # tranform JSON file into a pandas dataframe\n",
    "\n",
    "# Matplotlib and associated plotting modules\n",
    "import matplotlib.cm as cm\n",
    "import matplotlib.colors as colors\n",
    "\n",
    "# import k-means from clustering stage\n",
    "from sklearn.cluster import KMeans\n",
    "! pip install folium==0.5.0\n",
    "import folium # map rendering library\n",
    "\n",
    "print('Libraries imported.')\n",
    "# Input data files are available in the \"../input/\" directory.\n",
    "# For example, running this (by clicking run or pressing Shift+Enter) will list the files in the input directory\n",
    "# First We have to locate the file path and changed accordingly\n",
    "import os\n",
    "os.getcwd()"
   ]
  },
  {
   "cell_type": "code",
   "execution_count": 33,
   "metadata": {},
   "outputs": [
    {
     "name": "stdout",
     "output_type": "stream",
     "text": [
      "    Postal Code           Borough                                                                    Neighbourhood\n",
      "0           M1A      Not assigned                                                                     Not assigned\n",
      "1           M2A      Not assigned                                                                     Not assigned\n",
      "2           M3A        North York                                                                        Parkwoods\n",
      "3           M4A        North York                                                                 Victoria Village\n",
      "4           M5A  Downtown Toronto                                                        Regent Park, Harbourfront\n",
      "5           M6A        North York                                                 Lawrence Manor, Lawrence Heights\n",
      "6           M7A  Downtown Toronto                                      Queen's Park, Ontario Provincial Government\n",
      "7           M8A      Not assigned                                                                     Not assigned\n",
      "8           M9A         Etobicoke                                          Islington Avenue, Humber Valley Village\n",
      "9           M1B       Scarborough                                                                   Malvern, Rouge\n",
      "10          M2B      Not assigned                                                                     Not assigned\n",
      "11          M3B        North York                                                                        Don Mills\n",
      "12          M4B         East York                                                  Parkview Hill, Woodbine Gardens\n",
      "13          M5B  Downtown Toronto                                                         Garden District, Ryerson\n",
      "14          M6B        North York                                                                        Glencairn\n",
      "15          M7B      Not assigned                                                                     Not assigned\n",
      "16          M8B      Not assigned                                                                     Not assigned\n",
      "17          M9B         Etobicoke           West Deane Park, Princess Gardens, Martin Grove, Islington, Cloverdale\n",
      "18          M1C       Scarborough                                           Rouge Hill, Port Union, Highland Creek\n",
      "19          M2C      Not assigned                                                                     Not assigned\n",
      "20          M3C        North York                                                                        Don Mills\n",
      "21          M4C         East York                                                                 Woodbine Heights\n",
      "22          M5C  Downtown Toronto                                                                   St. James Town\n",
      "23          M6C              York                                                               Humewood-Cedarvale\n",
      "24          M7C      Not assigned                                                                     Not assigned\n",
      "25          M8C      Not assigned                                                                     Not assigned\n",
      "26          M9C         Etobicoke                    Eringate, Bloordale Gardens, Old Burnhamthorpe, Markland Wood\n",
      "27          M1E       Scarborough                                                Guildwood, Morningside, West Hill\n",
      "28          M2E      Not assigned                                                                     Not assigned\n",
      "29          M3E      Not assigned                                                                     Not assigned\n",
      "30          M4E      East Toronto                                                                      The Beaches\n",
      "31          M5E  Downtown Toronto                                                                      Berczy Park\n",
      "32          M6E              York                                                              Caledonia-Fairbanks\n",
      "33          M7E      Not assigned                                                                     Not assigned\n",
      "34          M8E      Not assigned                                                                     Not assigned\n",
      "35          M9E      Not assigned                                                                     Not assigned\n",
      "36          M1G       Scarborough                                                                           Woburn\n",
      "37          M2G      Not assigned                                                                     Not assigned\n",
      "38          M3G      Not assigned                                                                     Not assigned\n",
      "39          M4G         East York                                                                          Leaside\n",
      "40          M5G  Downtown Toronto                                                               Central Bay Street\n",
      "41          M6G  Downtown Toronto                                                                         Christie\n",
      "42          M7G      Not assigned                                                                     Not assigned\n",
      "43          M8G      Not assigned                                                                     Not assigned\n",
      "44          M9G      Not assigned                                                                     Not assigned\n",
      "45          M1H       Scarborough                                                                        Cedarbrae\n",
      "46          M2H        North York                                                                Hillcrest Village\n",
      "47          M3H        North York                                  Bathurst Manor, Wilson Heights, Downsview North\n",
      "48          M4H         East York                                                                 Thorncliffe Park\n",
      "49          M5H  Downtown Toronto                                                         Richmond, Adelaide, King\n",
      "50          M6H      West Toronto                                                     Dufferin, Dovercourt Village\n",
      "51          M7H      Not assigned                                                                     Not assigned\n",
      "52          M8H      Not assigned                                                                     Not assigned\n",
      "53          M9H      Not assigned                                                                     Not assigned\n",
      "54          M1J       Scarborough                                                              Scarborough Village\n",
      "55          M2J        North York                                                     Fairview, Henry Farm, Oriole\n",
      "56          M3J        North York                                                  Northwood Park, York University\n",
      "57          M4J         East York                                    East Toronto, Broadview North (Old East York)\n",
      "58          M5J  Downtown Toronto                                Harbourfront East, Union Station, Toronto Islands\n",
      "59          M6J      West Toronto                                                         Little Portugal, Trinity\n",
      "60          M7J      Not assigned                                                                     Not assigned\n",
      "61          M8J      Not assigned                                                                     Not assigned\n",
      "62          M9J      Not assigned                                                                     Not assigned\n",
      "63          M1K       Scarborough                                      Kennedy Park, Ionview, East Birchmount Park\n",
      "64          M2K        North York                                                                  Bayview Village\n",
      "65          M3K        North York                                                                        Downsview\n",
      "66          M4K      East Toronto                                                     The Danforth West, Riverdale\n",
      "67          M5K  Downtown Toronto                                         Toronto Dominion Centre, Design Exchange\n",
      "68          M6K      West Toronto                                     Brockton, Parkdale Village, Exhibition Place\n",
      "69          M7K      Not assigned                                                                     Not assigned\n",
      "70          M8K      Not assigned                                                                     Not assigned\n",
      "71          M9K      Not assigned                                                                     Not assigned\n",
      "72          M1L       Scarborough                                                  Golden Mile, Clairlea, Oakridge\n",
      "73          M2L        North York                                                         York Mills, Silver Hills\n",
      "74          M3L        North York                                                                        Downsview\n",
      "75          M4L      East Toronto                                                   India Bazaar, The Beaches West\n",
      "76          M5L  Downtown Toronto                                                   Commerce Court, Victoria Hotel\n",
      "77          M6L        North York                                         North Park, Maple Leaf Park, Upwood Park\n",
      "78          M7L      Not assigned                                                                     Not assigned\n",
      "79          M8L      Not assigned                                                                     Not assigned\n",
      "80          M9L        North York                                                                    Humber Summit\n",
      "81          M1M       Scarborough                                  Cliffside, Cliffcrest, Scarborough Village West\n",
      "82          M2M        North York                                                          Willowdale, Newtonbrook\n",
      "83          M3M        North York                                                                        Downsview\n",
      "84          M4M      East Toronto                                                                  Studio District\n",
      "85          M5M        North York                                                Bedford Park, Lawrence Manor East\n",
      "86          M6M              York                                 Del Ray, Mount Dennis, Keelsdale and Silverthorn\n",
      "87          M7M      Not assigned                                                                     Not assigned\n",
      "88          M8M      Not assigned                                                                     Not assigned\n",
      "89          M9M        North York                                                                 Humberlea, Emery\n",
      "90          M1N       Scarborough                                                      Birch Cliff, Cliffside West\n",
      "91          M2N        North York                                                      Willowdale, Willowdale East\n",
      "92          M3N        North York                                                                        Downsview\n",
      "93          M4N   Central Toronto                                                                    Lawrence Park\n",
      "94          M5N   Central Toronto                                                                         Roselawn\n",
      "95          M6N              York                                                    Runnymede, The Junction North\n",
      "96          M7N      Not assigned                                                                     Not assigned\n",
      "97          M8N      Not assigned                                                                     Not assigned\n",
      "98          M9N              York                                                                           Weston\n",
      "99          M1P       Scarborough                            Dorset Park, Wexford Heights, Scarborough Town Centre\n",
      "100         M2P        North York                                                                  York Mills West\n",
      "101         M3P      Not assigned                                                                     Not assigned\n",
      "102         M4P   Central Toronto                                                                 Davisville North\n",
      "103         M5P   Central Toronto                                  Forest Hill North & West, Forest Hill Road Park\n",
      "104         M6P      West Toronto                                                    High Park, The Junction South\n",
      "105         M7P      Not assigned                                                                     Not assigned\n",
      "106         M8P      Not assigned                                                                     Not assigned\n",
      "107         M9P         Etobicoke                                                                        Westmount\n",
      "108         M1R       Scarborough                                                                Wexford, Maryvale\n",
      "109         M2R        North York                                                      Willowdale, Willowdale West\n",
      "110         M3R      Not assigned                                                                     Not assigned\n",
      "111         M4R   Central Toronto                                                North Toronto West, Lawrence Park\n",
      "112         M5R   Central Toronto                                              The Annex, North Midtown, Yorkville\n",
      "113         M6R      West Toronto                                                           Parkdale, Roncesvalles\n",
      "114         M7R       Mississauga                                            Canada Post Gateway Processing Centre\n",
      "115         M8R      Not assigned                                                                     Not assigned\n",
      "116         M9R         Etobicoke          Kingsview Village, St. Phillips, Martin Grove Gardens, Richview Gardens\n",
      "117         M1S       Scarborough                                                                        Agincourt\n",
      "118         M2S      Not assigned                                                                     Not assigned\n",
      "119         M3S      Not assigned                                                                     Not assigned\n",
      "120         M4S   Central Toronto                                                                       Davisville\n",
      "121         M5S  Downtown Toronto                                                   University of Toronto, Harbord\n",
      "122         M6S      West Toronto                                                               Runnymede, Swansea\n",
      "123         M7S      Not assigned                                                                     Not assigned\n",
      "124         M8S      Not assigned                                                                     Not assigned\n",
      "125         M9S      Not assigned                                                                     Not assigned\n",
      "126         M1T       Scarborough                                          Clarks Corners, Tam O'Shanter, Sullivan\n",
      "127         M2T      Not assigned                                                                     Not assigned\n",
      "128         M3T      Not assigned                                                                     Not assigned\n",
      "129         M4T   Central Toronto                                                      Moore Park, Summerhill East\n",
      "130         M5T  Downtown Toronto                                        Kensington Market, Chinatown, Grange Park\n",
      "131         M6T      Not assigned                                                                     Not assigned\n",
      "132         M7T      Not assigned                                                                     Not assigned\n",
      "133         M8T      Not assigned                                                                     Not assigned\n",
      "134         M9T      Not assigned                                                                     Not assigned\n",
      "135         M1V       Scarborough                         Milliken, Agincourt North, Steeles East, L'Amoreaux East\n",
      "136         M2V      Not assigned                                                                     Not assigned\n",
      "137         M3V      Not assigned                                                                     Not assigned\n",
      "138         M4V   Central Toronto                Summerhill West, Rathnelly, South Hill, Forest Hill SE, Deer Park\n",
      "139         M5V  Downtown Toronto  CN Tower, King and Spadina, Railway Lands, Harbourfront West, Bathurst Quay,...\n",
      "140         M6V      Not assigned                                                                     Not assigned\n",
      "141         M7V      Not assigned                                                                     Not assigned\n",
      "142         M8V         Etobicoke                                     New Toronto, Mimico South, Humber Bay Shores\n",
      "143         M9V         Etobicoke  South Steeles, Silverstone, Humbergate, Jamestown, Mount Olive, Beaumond Hei...\n",
      "144         M1W       Scarborough                                                    Steeles West, L'Amoreaux West\n",
      "145         M2W      Not assigned                                                                     Not assigned\n",
      "146         M3W      Not assigned                                                                     Not assigned\n",
      "147         M4W  Downtown Toronto                                                                         Rosedale\n",
      "148         M5W  Downtown Toronto                                                                   Stn A PO Boxes\n",
      "149         M6W      Not assigned                                                                     Not assigned\n",
      "150         M7W      Not assigned                                                                     Not assigned\n",
      "151         M8W         Etobicoke                                                           Alderwood, Long Branch\n",
      "152         M9W         Etobicoke                                              Northwest, West Humber - Clairville\n",
      "153         M1X       Scarborough                                                                      Upper Rouge\n",
      "154         M2X      Not assigned                                                                     Not assigned\n",
      "155         M3X      Not assigned                                                                     Not assigned\n",
      "156         M4X  Downtown Toronto                                                      St. James Town, Cabbagetown\n",
      "157         M5X  Downtown Toronto                                           First Canadian Place, Underground city\n",
      "158         M6X      Not assigned                                                                     Not assigned\n",
      "159         M7X      Not assigned                                                                     Not assigned\n",
      "160         M8X         Etobicoke                                    The Kingsway, Montgomery Road, Old Mill North\n",
      "161         M9X      Not assigned                                                                     Not assigned\n",
      "162         M1Y      Not assigned                                                                     Not assigned\n",
      "163         M2Y      Not assigned                                                                     Not assigned\n",
      "164         M3Y      Not assigned                                                                     Not assigned\n",
      "165         M4Y  Downtown Toronto                                                             Church and Wellesley\n",
      "166         M5Y      Not assigned                                                                     Not assigned\n",
      "167         M6Y      Not assigned                                                                     Not assigned\n",
      "168         M7Y      East Toronto  Business reply mail Processing Centre, South Central Letter Processing Plant...\n",
      "169         M8Y         Etobicoke  Old Mill South, King's Mill Park, Sunnylea, Humber Bay, Mimico NE, The Queen...\n",
      "170         M9Y      Not assigned                                                                     Not assigned\n",
      "171         M1Z      Not assigned                                                                     Not assigned\n",
      "172         M2Z      Not assigned                                                                     Not assigned\n",
      "173         M3Z      Not assigned                                                                     Not assigned\n",
      "174         M4Z      Not assigned                                                                     Not assigned\n",
      "175         M5Z      Not assigned                                                                     Not assigned\n",
      "176         M6Z      Not assigned                                                                     Not assigned\n",
      "177         M7Z      Not assigned                                                                     Not assigned\n",
      "178         M8Z         Etobicoke  Mimico NW, The Queensway West, South of Bloor, Kingsway Park South West, Roy...\n",
      "179         M9Z      Not assigned                                                                     Not assigned\n"
     ]
    }
   ],
   "source": [
    "path='https://en.wikipedia.org/wiki/List_of_postal_codes_of_Canada:_M'\n",
    "# Read File\n",
    "df_wiki=pd.read_html(path)\n",
    "pd.set_option('display.max_columns', 100)\n",
    "pd.set_option('display.max_rows', 500)\n",
    "pd.set_option('display.min_rows', 200)\n",
    "pd.set_option('display.max_colwidth', 80)\n",
    "pd.set_option('display.width', 120)\n",
    "pd.set_option('expand_frame_repr', True)\n",
    "#Check the type\n",
    "type(df_wiki)\n",
    "# Call the position where the table is stored\n",
    "neighborhood=df_wiki[0]\n",
    "print(neighborhood)"
   ]
  },
  {
   "cell_type": "code",
   "execution_count": 34,
   "metadata": {},
   "outputs": [
    {
     "data": {
      "text/html": [
       "<div>\n",
       "<style scoped>\n",
       "    .dataframe tbody tr th:only-of-type {\n",
       "        vertical-align: middle;\n",
       "    }\n",
       "\n",
       "    .dataframe tbody tr th {\n",
       "        vertical-align: top;\n",
       "    }\n",
       "\n",
       "    .dataframe thead th {\n",
       "        text-align: right;\n",
       "    }\n",
       "</style>\n",
       "<table border=\"1\" class=\"dataframe\">\n",
       "  <thead>\n",
       "    <tr style=\"text-align: right;\">\n",
       "      <th></th>\n",
       "      <th>index</th>\n",
       "      <th>Postal Code</th>\n",
       "      <th>Borough</th>\n",
       "      <th>Neighbourhood</th>\n",
       "      <th>Neighborhood</th>\n",
       "    </tr>\n",
       "  </thead>\n",
       "  <tbody>\n",
       "    <tr>\n",
       "      <th>0</th>\n",
       "      <td>0</td>\n",
       "      <td>M1B</td>\n",
       "      <td>Scarborough</td>\n",
       "      <td>Malvern, Rouge</td>\n",
       "      <td>NaN</td>\n",
       "    </tr>\n",
       "    <tr>\n",
       "      <th>1</th>\n",
       "      <td>1</td>\n",
       "      <td>M1C</td>\n",
       "      <td>Scarborough</td>\n",
       "      <td>Rouge Hill, Port Union, Highland Creek</td>\n",
       "      <td>NaN</td>\n",
       "    </tr>\n",
       "    <tr>\n",
       "      <th>2</th>\n",
       "      <td>2</td>\n",
       "      <td>M1E</td>\n",
       "      <td>Scarborough</td>\n",
       "      <td>Guildwood, Morningside, West Hill</td>\n",
       "      <td>NaN</td>\n",
       "    </tr>\n",
       "    <tr>\n",
       "      <th>3</th>\n",
       "      <td>3</td>\n",
       "      <td>M1G</td>\n",
       "      <td>Scarborough</td>\n",
       "      <td>Woburn</td>\n",
       "      <td>NaN</td>\n",
       "    </tr>\n",
       "    <tr>\n",
       "      <th>4</th>\n",
       "      <td>4</td>\n",
       "      <td>M1H</td>\n",
       "      <td>Scarborough</td>\n",
       "      <td>Cedarbrae</td>\n",
       "      <td>Queen's Park</td>\n",
       "    </tr>\n",
       "  </tbody>\n",
       "</table>\n",
       "</div>"
      ],
      "text/plain": [
       "   index Postal Code      Borough                           Neighbourhood  Neighborhood\n",
       "0      0         M1B  Scarborough                          Malvern, Rouge           NaN\n",
       "1      1         M1C  Scarborough  Rouge Hill, Port Union, Highland Creek           NaN\n",
       "2      2         M1E  Scarborough       Guildwood, Morningside, West Hill           NaN\n",
       "3      3         M1G  Scarborough                                  Woburn           NaN\n",
       "4      4         M1H  Scarborough                               Cedarbrae  Queen's Park"
      ]
     },
     "execution_count": 34,
     "metadata": {},
     "output_type": "execute_result"
    }
   ],
   "source": [
    "# Rename the Columns\n",
    "neighborhood.rename(columns={0:'Postcode', 1: 'Borough', 2: 'Neighborhood'}, inplace=True)\n",
    "# Eliminate \"Not assigned\", categorical values from \"Borough\" Column\n",
    "neighborhood=neighborhood[neighborhood.Borough !='Not assigned']\n",
    "# Making DataFrame\n",
    "neighborhood=pd.DataFrame(neighborhood)\n",
    "# Merging rows with same Postcode\n",
    "neighborhood = neighborhood.groupby(['Postal Code','Borough'], as_index=False).agg(lambda x: ','.join(x))\n",
    "# Setting the index\n",
    "serial_wise=neighborhood.reset_index()\n",
    "# Assign the 'Borough' column value to 'Neighborhood' where 'Not assigned' occurs\n",
    "serial_wise.loc[4, 'Neighborhood']='Queen\\'s Park'\n",
    "# Showing the Data Frame\n",
    "df=pd.DataFrame(serial_wise)\n",
    "df.head()"
   ]
  },
  {
   "cell_type": "code",
   "execution_count": 35,
   "metadata": {},
   "outputs": [
    {
     "name": "stdout",
     "output_type": "stream",
     "text": [
      "Shape:  (103, 5)\n"
     ]
    }
   ],
   "source": [
    "print(\"Shape: \", df.shape)"
   ]
  },
  {
   "cell_type": "code",
   "execution_count": 127,
   "metadata": {},
   "outputs": [
    {
     "name": "stdout",
     "output_type": "stream",
     "text": [
      "/home/wsuser/work\n"
     ]
    }
   ],
   "source": [
    "import os\n",
    "print(os.getcwd())"
   ]
  },
  {
   "cell_type": "code",
   "execution_count": 128,
   "metadata": {},
   "outputs": [
    {
     "data": {
      "text/plain": [
       "[]"
      ]
     },
     "execution_count": 128,
     "metadata": {},
     "output_type": "execute_result"
    }
   ],
   "source": [
    "os.listdir(os.getcwd())"
   ]
  },
  {
   "cell_type": "code",
   "execution_count": 134,
   "metadata": {},
   "outputs": [
    {
     "ename": "FileNotFoundError",
     "evalue": "[Errno 2] No such file or directory: 'Users/donaldclovisaba/Desktop/projects/Geospatial_Coordinates.csv'",
     "output_type": "error",
     "traceback": [
      "\u001b[0;31m---------------------------------------------------------------------------\u001b[0m",
      "\u001b[0;31mFileNotFoundError\u001b[0m                         Traceback (most recent call last)",
      "\u001b[0;32m<ipython-input-134-89a27e9ad2c7>\u001b[0m in \u001b[0;36m<module>\u001b[0;34m\u001b[0m\n\u001b[0;32m----> 1\u001b[0;31m \u001b[0mos\u001b[0m\u001b[0;34m.\u001b[0m\u001b[0mchdir\u001b[0m\u001b[0;34m(\u001b[0m\u001b[0;34m'Users/donaldclovisaba/Desktop/projects/Geospatial_Coordinates.csv'\u001b[0m\u001b[0;34m)\u001b[0m\u001b[0;34m\u001b[0m\u001b[0;34m\u001b[0m\u001b[0m\n\u001b[0m",
      "\u001b[0;31mFileNotFoundError\u001b[0m: [Errno 2] No such file or directory: 'Users/donaldclovisaba/Desktop/projects/Geospatial_Coordinates.csv'"
     ]
    }
   ],
   "source": [
    "os.chdir('Users/donaldclovisaba/Desktop/projects/Geospatial_Coordinates.csv')"
   ]
  },
  {
   "cell_type": "code",
   "execution_count": null,
   "metadata": {},
   "outputs": [],
   "source": [
    "import csv\n",
    "import os.path\n",
    "\n",
    "df1=pd.read_csv(\"Users/donaldclovisaba/Desktop/projects/Geospatial_Coordinates.csv\")\n",
    "# Change the Postal Code to Postcode\n",
    "df1.rename(columns={'Postal Code':'Postcode'},inplace=True)\n",
    "#Cancatenation\n",
    "frames=[df,df1]\n",
    "frames=pd.concat(frames, axis=1, sort=False)\n",
    "# Merging the two columns on 'Postcode'\n",
    "merge_columns=pd.merge(df, df1, left_on='Postcode', right_on='Postcode')\n",
    "# Save the Data Frame\n",
    "merge_columns.to_csv('neigbors_geographical.csv')\n",
    "merge_columns.head()"
   ]
  },
  {
   "cell_type": "code",
   "execution_count": 130,
   "metadata": {},
   "outputs": [
    {
     "data": {
      "text/plain": [
       "'/home/wsuser/work'"
      ]
     },
     "execution_count": 130,
     "metadata": {},
     "output_type": "execute_result"
    }
   ],
   "source": [
    "pwd"
   ]
  },
  {
   "cell_type": "code",
   "execution_count": null,
   "metadata": {},
   "outputs": [],
   "source": [
    "# Change the Postal Code to Postcode\n",
    "df1.rename(columns={'Postal Code':'Postcode'},inplace=True)\n",
    "#Cancatenation\n",
    "frames=[df,df1]\n",
    "frames=pd.concat(frames, axis=1, sort=False)\n",
    "# Merging the two columns on 'Postcode'\n",
    "merge_columns=pd.merge(df, df1, left_on='Postcode', right_on='Postcode')\n",
    "# Save the Data Frame\n",
    "merge_columns.to_csv('neigbors_geographical.csv')\n",
    "merge_columns.head()"
   ]
  },
  {
   "cell_type": "code",
   "execution_count": null,
   "metadata": {},
   "outputs": [],
   "source": [
    "# Sorting\n",
    "# set index for only Downtown Toronto\n",
    "downtown_toronto_data = merge_columns[merge_columns['Borough'] == 'Downtown Toronto'].reset_index(drop=True)\n",
    "# eliminate 'Postcode' column\n",
    "downtown_toronto_data=downtown_toronto_data.drop(['Postcode'], axis=1)\n",
    "downtown_toronto_data.head()"
   ]
  },
  {
   "cell_type": "markdown",
   "metadata": {},
   "source": [
    "Now we will move towards New York Boroughs. We select \"Manhattan\" as a Borough and anylze its neighborhoods later"
   ]
  },
  {
   "cell_type": "code",
   "execution_count": null,
   "metadata": {},
   "outputs": [],
   "source": [
    "neighborhoods=pd.read_csv(\"../input/neighborhoods-ny/neighborhoods_NY.csv\", index_col=0)\n",
    "# And make sure that the dataset has all 5 boroughs and 306 neighborhoods.\n",
    "print('The dataframe has {} boroughs and {} neighborhoods.'.format(\n",
    "        len(neighborhoods['Borough'].unique()),\n",
    "        neighborhoods.shape[0]\n",
    "    )\n",
    ")\n",
    "\n",
    "neighborhoods.head()"
   ]
  },
  {
   "cell_type": "code",
   "execution_count": null,
   "metadata": {},
   "outputs": [],
   "source": [
    "# Creating new Dataframe manhattan_data\n",
    "manhattan_data = neighborhoods[neighborhoods['Borough'] == 'Manhattan'].reset_index(drop=True)\n",
    "manhattan_data.head()"
   ]
  },
  {
   "cell_type": "code",
   "execution_count": 45,
   "metadata": {},
   "outputs": [
    {
     "name": "stdout",
     "output_type": "stream",
     "text": [
      "Your credentails:\n",
      "CLIENT_ID:HRMBKZUASN1NWO005IQK4TGG15UVEY5GCLJCYXHXW0VDP00K\n",
      "CLIENT_SECRET:JSXFO23NR2OMICQSZRFQYDAZG1GMNRALXXACAFVNF5CGAM4C\n"
     ]
    }
   ],
   "source": [
    "# Define Foursquare Credentials and Version\n",
    "CLIENT_ID = 'HRMBKZUASN1NWO005IQK4TGG15UVEY5GCLJCYXHXW0VDP00K' # your Foursquare ID\n",
    "CLIENT_SECRET = 'JSXFO23NR2OMICQSZRFQYDAZG1GMNRALXXACAFVNF5CGAM4C' # your Foursquare Secret\n",
    "VERSION = '20180604'\n",
    "limit = 20\n",
    "print('Your credentails:')\n",
    "print('CLIENT_ID:'+ CLIENT_ID)\n",
    "print('CLIENT_SECRET:'+ CLIENT_SECRET)"
   ]
  },
  {
   "cell_type": "code",
   "execution_count": null,
   "metadata": {},
   "outputs": [],
   "source": [
    "# get the geographical coordinates of Downtown Toronto\n",
    "address = 'Downtown Toronto, ON, Canada'\n",
    "\n",
    "geolocator = Nominatim()\n",
    "location = geolocator.geocode(address)\n",
    "latitude_downtown_toronto = location.latitude\n",
    "longitude_downtown_toronto = location.longitude\n",
    "print(\"Downtown Toronto\",\"latitude\",latitude_downtown_toronto, \"& \" \"longitude\" ,longitude_downtown_toronto)"
   ]
  },
  {
   "cell_type": "code",
   "execution_count": null,
   "metadata": {},
   "outputs": [],
   "source": [
    "# Let's get the geographical coordinates of Manhattan.\n",
    "address = 'Manhattan, NY'\n",
    "\n",
    "geolocator = Nominatim()\n",
    "location = geolocator.geocode(address)\n",
    "latitude = location.latitude\n",
    "longitude = location.longitude\n",
    "print('The geograpical coordinate of Manhattan are {}, {}.'.format(latitude, longitude))"
   ]
  },
  {
   "cell_type": "code",
   "execution_count": null,
   "metadata": {},
   "outputs": [],
   "source": [
    "# create map of Downtown Toronto using latitude and longitude values\n",
    "map_downtown_toronto = folium.Map(location=[latitude_downtown_toronto,longitude_downtown_toronto], zoom_start=11)\n",
    "\n",
    "# add markers to map\n",
    "for lat, lng, label in zip(downtown_toronto_data['Latitude'], downtown_toronto_data['Longitude'], downtown_toronto_data['Neighborhood']):\n",
    "    label = folium.Popup(label, parse_html=True)\n",
    "    folium.CircleMarker(\n",
    "        [lat, lng],\n",
    "        radius=5,\n",
    "        popup=label,\n",
    "        color='blue',\n",
    "        fill=True,\n",
    "        fill_color='#3186cc',\n",
    "        fill_opacity=0.7,\n",
    "        parse_html=False).add_to(map_downtown_toronto)  \n",
    "    \n",
    "map_downtown_toronto"
   ]
  },
  {
   "cell_type": "code",
   "execution_count": null,
   "metadata": {},
   "outputs": [],
   "source": [
    "from folium import plugins\n",
    "# create map of Downtown Toronto using latitude and longitude values\n",
    "map_downtown_toronto = folium.Map(location=[latitude_downtown_toronto,longitude_downtown_toronto], zoom_start=11)\n",
    "# instantiate a mark cluster object for the incidents in the dataframe\n",
    "incidents = plugins.MarkerCluster().add_to(map_downtown_toronto)\n",
    "# add markers to map\n",
    "for lat, lng, label in zip(downtown_toronto_data['Latitude'], downtown_toronto_data['Longitude'], downtown_toronto_data['Neighborhood']):\n",
    "    label = folium.Popup(label, parse_html=True)\n",
    "    folium.CircleMarker(\n",
    "        [lat, lng],\n",
    "        radius=5,\n",
    "        popup=label,\n",
    "        color='blue',\n",
    "        fill=True,\n",
    "        fill_color='#3186cc',\n",
    "        fill_opacity=0.7,\n",
    "        parse_html=False).add_to(incidents)  \n",
    "    \n",
    "map_downtown_toronto"
   ]
  },
  {
   "cell_type": "code",
   "execution_count": null,
   "metadata": {},
   "outputs": [],
   "source": [
    "# create map of Manhattan using latitude and longitude values\n",
    "map_manhattan = folium.Map(location=[latitude, longitude], zoom_start=11)\n",
    "\n",
    "# add markers to map\n",
    "for lat, lng, label in zip(manhattan_data['Latitude'], manhattan_data['Longitude'], manhattan_data['Neighborhood']):\n",
    "    label = folium.Popup(label, parse_html=True)\n",
    "    folium.CircleMarker(\n",
    "        [lat, lng],\n",
    "        radius=5,\n",
    "        popup=label,\n",
    "        color='blue',\n",
    "        fill=True,\n",
    "        fill_color='#3186cc',\n",
    "        fill_opacity=0.7,\n",
    "        parse_html=False).add_to(map_manhattan)  \n",
    "    \n",
    "map_manhattan"
   ]
  },
  {
   "cell_type": "code",
   "execution_count": null,
   "metadata": {},
   "outputs": [],
   "source": [
    "# create map of Manhattan using latitude and longitude values\n",
    "map_manhattan = folium.Map(location=[latitude, longitude], zoom_start=11)\n",
    "\n",
    "grouping = plugins.MarkerCluster().add_to(map_manhattan)\n",
    "\n",
    "# add markers to map\n",
    "for lat, lng, label in zip(manhattan_data['Latitude'], manhattan_data['Longitude'], manhattan_data['Neighborhood']):\n",
    "    label = folium.Popup(label, parse_html=True)\n",
    "    folium.CircleMarker(\n",
    "        [lat, lng],\n",
    "        radius=5,\n",
    "        popup=label,\n",
    "        color='blue',\n",
    "        fill=True,\n",
    "        fill_color='#3186cc',\n",
    "        fill_opacity=0.7,\n",
    "        parse_html=False).add_to(grouping)  \n",
    "    \n",
    "map_manhattan"
   ]
  },
  {
   "cell_type": "code",
   "execution_count": 52,
   "metadata": {},
   "outputs": [],
   "source": [
    "# Let's create a function to repeat the process to all the neighborhoods in Toronto\n",
    "def getNearbyVenues(names, latitudes,longitudes, radius=500):\n",
    "    \n",
    "    venues_list=[]\n",
    "    for name, lat, lng in zip(names,latitudes,longitudes):\n",
    "        print(name)\n",
    "            \n",
    "        # create the API request URL\n",
    "        url = 'https://api.foursquare.com/v2/venues/explore?&client_id={}&client_secret={}&v={}&ll={},{}&radius={}&limit={}'.format(\n",
    "            CLIENT_ID, \n",
    "            CLIENT_SECRET, \n",
    "            VERSION, \n",
    "            lat, \n",
    "            lng, \n",
    "            radius, \n",
    "            limit)\n",
    "            \n",
    "        # make the GET request\n",
    "        results = requests.get(url).json()[\"response\"]['groups'][0]['items']\n",
    "        \n",
    "        # return only relevant information for each nearby venue\n",
    "        venues_list.append([(\n",
    "            name, \n",
    "            lat, \n",
    "            lng, \n",
    "            v['venue']['name'], \n",
    "            v['venue']['location']['lat'], \n",
    "            v['venue']['location']['lng'],  \n",
    "            v['venue']['categories'][0]['name']) for v in results])\n",
    "\n",
    "    nearby_venues = pd.DataFrame([item for venue_list in venues_list for item in venue_list])\n",
    "    nearby_venues.columns = ['Neighborhood', \n",
    "                  'Neighborhood Latitude', \n",
    "                  'Neighborhood Longitude', \n",
    "                  'Venue', \n",
    "                  'Venue Latitude', \n",
    "                  'Venue Longitude', \n",
    "                  'Venue Category']\n",
    "    \n",
    "    return(nearby_venues)"
   ]
  },
  {
   "cell_type": "code",
   "execution_count": null,
   "metadata": {},
   "outputs": [],
   "source": [
    "# Write the code to run the above function on each neighborhood and create a new dataframe called toronto_venues.\n",
    "downtown_toronto_venues = getNearbyVenues(names=downtown_toronto_data['Neighborhood'],\n",
    "                                   latitudes=downtown_toronto_data['Latitude'],\n",
    "                                   longitudes=downtown_toronto_data['Longitude'],\n",
    "                                  )"
   ]
  },
  {
   "cell_type": "code",
   "execution_count": null,
   "metadata": {},
   "outputs": [],
   "source": [
    "# Let's check the size of the resulting dataframe\n",
    "print(downtown_toronto_venues.shape)\n",
    "downtown_toronto_venues.head()"
   ]
  },
  {
   "cell_type": "code",
   "execution_count": null,
   "metadata": {},
   "outputs": [],
   "source": [
    "# Let's check how many venues were returned for each neighborhood\n",
    "downtown_toronto_venues.groupby('Neighborhood').count()"
   ]
  },
  {
   "cell_type": "code",
   "execution_count": null,
   "metadata": {},
   "outputs": [],
   "source": [
    "# Let's find out how many unique categories can be curated from all the returned venues\n",
    "print('There are {} uniques categories.'.format(len(downtown_toronto_venues['Venue Category'].unique())))"
   ]
  },
  {
   "cell_type": "markdown",
   "metadata": {},
   "source": [
    "Analyzing Each Neighborhood"
   ]
  },
  {
   "cell_type": "code",
   "execution_count": null,
   "metadata": {},
   "outputs": [],
   "source": [
    "# one hot encoding\n",
    "downtown_toronto_onehot = pd.get_dummies(downtown_toronto_venues[['Venue Category']], prefix=\"\", prefix_sep=\"\")\n",
    "\n",
    "# add neighborhood column back to dataframe\n",
    "downtown_toronto_onehot['Neighborhood'] = downtown_toronto_venues['Neighborhood'] \n",
    "\n",
    "# move neighborhood column to the first column\n",
    "fixed_columns = [downtown_toronto_onehot.columns[-1]] + list(downtown_toronto_onehot.columns[:-1])\n",
    "downtown_toronto_onehot = downtown_toronto_onehot[fixed_columns]\n",
    "\n",
    "downtown_toronto_onehot.head()"
   ]
  },
  {
   "cell_type": "code",
   "execution_count": null,
   "metadata": {},
   "outputs": [],
   "source": [
    "# Next, let's group rows by neighborhood and by taking the mean of the frequency of occurrence of each category\n",
    "downtown_toronto_grouped = downtown_toronto_onehot.groupby('Neighborhood').mean().reset_index()"
   ]
  },
  {
   "cell_type": "code",
   "execution_count": null,
   "metadata": {},
   "outputs": [],
   "source": [
    "# Let's print each neighborhood along with the top 5 most common venues\n",
    "num_top_venues = 5\n",
    "\n",
    "for hood in downtown_toronto_grouped['Neighborhood']:\n",
    "    print(\"----\"+hood+\"----\")\n",
    "    temp = downtown_toronto_grouped[downtown_toronto_grouped['Neighborhood'] == hood].T.reset_index()\n",
    "    temp.columns = ['venue','freq']\n",
    "    temp = temp.iloc[1:]\n",
    "    temp['freq'] = temp['freq'].astype(float)\n",
    "    temp = temp.round({'freq': 2})\n",
    "    print(temp.sort_values('freq', ascending=False).reset_index(drop=True).head(num_top_venues))\n",
    "    print('\\n')"
   ]
  },
  {
   "cell_type": "code",
   "execution_count": 60,
   "metadata": {},
   "outputs": [],
   "source": [
    "# Let's put that into a pandas dataframe\n",
    "def return_most_common_venues(row, num_top_venues):\n",
    "    row_categories = row.iloc[1:]\n",
    "    row_categories_sorted = row_categories.sort_values(ascending=False)\n",
    "    \n",
    "    return row_categories_sorted.index.values[0:num_top_venues]"
   ]
  },
  {
   "cell_type": "code",
   "execution_count": null,
   "metadata": {},
   "outputs": [],
   "source": [
    "# Now let's create the new dataframe and display the top 10 venues for each neighborhood.\n",
    "num_top_venues = 10\n",
    "\n",
    "indicators = ['st', 'nd', 'rd']\n",
    "\n",
    "# create columns according to number of top venues\n",
    "columns = ['Neighborhood']\n",
    "for ind in np.arange(num_top_venues):\n",
    "    try:\n",
    "        columns.append('{}{} Most Common Venue'.format(ind+1, indicators[ind]))\n",
    "    except:\n",
    "        columns.append('{}th Most Common Venue'.format(ind+1))\n",
    "\n",
    "# create a new dataframe\n",
    "neighborhoods_venues_sorted = pd.DataFrame(columns=columns)\n",
    "neighborhoods_venues_sorted['Neighborhood'] = downtown_toronto_grouped['Neighborhood']\n",
    "\n",
    "for ind in np.arange(downtown_toronto_grouped.shape[0]):\n",
    "    neighborhoods_venues_sorted.iloc[ind, 1:] = return_most_common_venues(downtown_toronto_grouped.iloc[ind, :], num_top_venues)\n",
    "\n",
    "neighborhoods_venues_sorted"
   ]
  },
  {
   "cell_type": "markdown",
   "metadata": {},
   "source": [
    "Clustering Neighborhoods"
   ]
  },
  {
   "cell_type": "code",
   "execution_count": null,
   "metadata": {},
   "outputs": [],
   "source": [
    "# set number of clusters\n",
    "kclusters = 5\n",
    "\n",
    "downtown_toronto_grouped_clustering = downtown_toronto_grouped.drop('Neighborhood', 1)\n",
    "\n",
    "# run k-means clustering\n",
    "kmeans = KMeans(n_clusters=kclusters, random_state=0).fit(downtown_toronto_grouped_clustering)\n",
    "\n",
    "# check cluster labels generated for each row in the dataframe\n",
    "kmeans.labels_[0:10]"
   ]
  },
  {
   "cell_type": "code",
   "execution_count": null,
   "metadata": {},
   "outputs": [],
   "source": [
    "# Let's create a new dataframe that includes the cluster as well as the top 10 venues for each neighborhood.\n",
    "downtown_toronto_merged = downtown_toronto_data\n",
    "\n",
    "# add clustering labels\n",
    "downtown_toronto_merged['Cluster Labels'] = kmeans.labels_\n",
    "\n",
    "# merge toronto_grouped with toronto_data to add latitude/longitude for each neighborhood\n",
    "downtown_toronto_merged = downtown_toronto_merged.join(neighborhoods_venues_sorted.set_index('Neighborhood'), on='Neighborhood')\n",
    "\n",
    "downtown_toronto_merged.head() # check the last columns!"
   ]
  },
  {
   "cell_type": "code",
   "execution_count": null,
   "metadata": {},
   "outputs": [],
   "source": [
    "# create map\n",
    "map_clusters = folium.Map(location=[latitude_downtown_toronto, longitude_downtown_toronto], zoom_start=11)\n",
    "\n",
    "# set color scheme for the clusters\n",
    "x = np.arange(kclusters)\n",
    "ys = [i+x+(i*x)**2 for i in range(kclusters)]\n",
    "colors_array = cm.rainbow(np.linspace(0, 1, len(ys)))\n",
    "rainbow = [colors.rgb2hex(i) for i in colors_array]\n",
    "\n",
    "# add markers to the map\n",
    "markers_colors = []\n",
    "for lat, lon, poi, cluster in zip(downtown_toronto_merged['Latitude'], downtown_toronto_merged['Longitude'], downtown_toronto_merged['Neighborhood'], downtown_toronto_merged['Cluster Labels']):\n",
    "    label = folium.Popup(str(poi) + ' Cluster ' + str(cluster), parse_html=True)\n",
    "    folium.CircleMarker(\n",
    "        [lat, lon],\n",
    "        radius=5,\n",
    "        popup=label,\n",
    "        color=rainbow[cluster-1],\n",
    "        fill=True,\n",
    "        fill_color=rainbow[cluster-1],\n",
    "        fill_opacity=0.7).add_to(map_clusters)\n",
    "       \n",
    "map_clusters"
   ]
  },
  {
   "cell_type": "markdown",
   "metadata": {},
   "source": [
    "Cluster 1 (Airport Lounge, Coffee Shop, Cafe, Restaurants & Grocery Store)"
   ]
  },
  {
   "cell_type": "code",
   "execution_count": null,
   "metadata": {},
   "outputs": [],
   "source": [
    "downtown_toronto_merged.loc[downtown_toronto_merged['Cluster Labels'] == 0, downtown_toronto_merged.columns[[1] + list(range(5, downtown_toronto_merged.shape[1]))]]"
   ]
  },
  {
   "cell_type": "markdown",
   "metadata": {},
   "source": [
    "Cluster 2 (Gastropubs)"
   ]
  },
  {
   "cell_type": "code",
   "execution_count": null,
   "metadata": {},
   "outputs": [],
   "source": [
    "downtown_toronto_merged.loc[downtown_toronto_merged['Cluster Labels'] == 1, downtown_toronto_merged.columns[[1] + list(range(5, downtown_toronto_merged.shape[1]))]]"
   ]
  },
  {
   "cell_type": "markdown",
   "metadata": {},
   "source": [
    "Cluster 3 (Cafes)"
   ]
  },
  {
   "cell_type": "code",
   "execution_count": null,
   "metadata": {},
   "outputs": [],
   "source": [
    "downtown_toronto_merged.loc[downtown_toronto_merged['Cluster Labels'] == 2, downtown_toronto_merged.columns[[1] + list(range(5, downtown_toronto_merged.shape[1]))]]"
   ]
  },
  {
   "cell_type": "markdown",
   "metadata": {},
   "source": [
    "Cluster 4 (Coffee Shop, Cafe, Park & Japanese Restaurant)"
   ]
  },
  {
   "cell_type": "code",
   "execution_count": null,
   "metadata": {},
   "outputs": [],
   "source": [
    "downtown_toronto_merged.loc[downtown_toronto_merged['Cluster Labels'] == 3, downtown_toronto_merged.columns[[1] + list(range(5, downtown_toronto_merged.shape[1]))]]"
   ]
  },
  {
   "cell_type": "markdown",
   "metadata": {},
   "source": [
    "Cluster 5 (Seafood, steakhouse, Hotel & Cafe)"
   ]
  },
  {
   "cell_type": "code",
   "execution_count": null,
   "metadata": {},
   "outputs": [],
   "source": [
    "downtown_toronto_merged.loc[downtown_toronto_merged['Cluster Labels'] == 4, downtown_toronto_merged.columns[[1] + list(range(5, downtown_toronto_merged.shape[1]))]]"
   ]
  },
  {
   "cell_type": "markdown",
   "metadata": {},
   "source": [
    "Exploring Neighborhoods in Manhattan"
   ]
  },
  {
   "cell_type": "code",
   "execution_count": 69,
   "metadata": {},
   "outputs": [],
   "source": [
    "# Let's create a function to repeat the same process to all the neighborhoods in Manhattan\n",
    "def getNearbyVenues(names, latitudes, longitudes, radius=500):\n",
    "    \n",
    "    venues_list=[]\n",
    "    for name, lat, lng in zip(names, latitudes, longitudes):\n",
    "        print(name)\n",
    "            \n",
    "        # create the API request URL\n",
    "        url = 'https://api.foursquare.com/v2/venues/explore?&client_id={}&client_secret={}&v={}&ll={},{}&radius={}&limit={}'.format(\n",
    "            CLIENT_ID, \n",
    "            CLIENT_SECRET, \n",
    "            VERSION, \n",
    "            lat, \n",
    "            lng, \n",
    "            radius, \n",
    "            limit)\n",
    "            \n",
    "        # make the GET request\n",
    "        results = requests.get(url).json()[\"response\"]['groups'][0]['items']\n",
    "        \n",
    "        # return only relevant information for each nearby venue\n",
    "        venues_list.append([(\n",
    "            name, \n",
    "            lat, \n",
    "            lng, \n",
    "            v['venue']['name'], \n",
    "            v['venue']['location']['lat'], \n",
    "            v['venue']['location']['lng'],  \n",
    "            v['venue']['categories'][0]['name']) for v in results])\n",
    "\n",
    "    nearby_venues = pd.DataFrame([item for venue_list in venues_list for item in venue_list])\n",
    "    nearby_venues.columns = ['Neighborhood', \n",
    "                  'Neighborhood Latitude', \n",
    "                  'Neighborhood Longitude', \n",
    "                  'Venue', \n",
    "                  'Venue Latitude', \n",
    "                  'Venue Longitude', \n",
    "                  'Venue Category']\n",
    "    \n",
    "    return(nearby_venues)"
   ]
  },
  {
   "cell_type": "code",
   "execution_count": null,
   "metadata": {},
   "outputs": [],
   "source": [
    "# Now write the code to run the above function on each neighborhood and create a new dataframe called manhattan_venues\n",
    "manhattan_venues = getNearbyVenues(names=manhattan_data['Neighborhood'],\n",
    "                                   latitudes=manhattan_data['Latitude'],\n",
    "                                   longitudes=manhattan_data['Longitude'],\n",
    "                                  )"
   ]
  },
  {
   "cell_type": "code",
   "execution_count": null,
   "metadata": {},
   "outputs": [],
   "source": [
    "# Let's check how many venues were returned for each neighborhood\n",
    "manhattan_venues.groupby('Neighborhood').count()"
   ]
  },
  {
   "cell_type": "code",
   "execution_count": null,
   "metadata": {},
   "outputs": [],
   "source": [
    "# Let's find out how many unique categories can be curated from all the returned venues\n",
    "print('There are {} uniques categories.'.format(len(manhattan_venues['Venue Category'].unique())))"
   ]
  },
  {
   "cell_type": "markdown",
   "metadata": {},
   "source": [
    "Analyzing the Neighborhoods"
   ]
  },
  {
   "cell_type": "code",
   "execution_count": null,
   "metadata": {},
   "outputs": [],
   "source": [
    "# one hot encoding\n",
    "manhattan_onehot = pd.get_dummies(manhattan_venues[['Venue Category']], prefix=\"\", prefix_sep=\"\")\n",
    "\n",
    "# add neighborhood column back to dataframe\n",
    "manhattan_onehot['Neighborhood'] = manhattan_venues['Neighborhood'] \n",
    "\n",
    "# move neighborhood column to the first column\n",
    "fixed_columns = [manhattan_onehot.columns[-1]] + list(manhattan_onehot.columns[:-1])\n",
    "manhattan_onehot = manhattan_onehot[fixed_columns]\n",
    "\n",
    "manhattan_onehot.head()"
   ]
  },
  {
   "cell_type": "code",
   "execution_count": null,
   "metadata": {},
   "outputs": [],
   "source": [
    "# Set Index\n",
    "manhattan_grouped = manhattan_onehot.groupby('Neighborhood').mean().reset_index()"
   ]
  },
  {
   "cell_type": "code",
   "execution_count": null,
   "metadata": {},
   "outputs": [],
   "source": [
    "# Let's print each neighborhood along with the top 5 most common venues\n",
    "num_top_venues = 5\n",
    "\n",
    "for hood in manhattan_grouped['Neighborhood']:\n",
    "    print(\"----\"+hood+\"----\")\n",
    "    temp = manhattan_grouped[manhattan_grouped['Neighborhood'] == hood].T.reset_index()\n",
    "    temp.columns = ['venue','freq']\n",
    "    temp = temp.iloc[1:]\n",
    "    temp['freq'] = temp['freq'].astype(float)\n",
    "    temp = temp.round({'freq': 2})\n",
    "    print(temp.sort_values('freq', ascending=False).reset_index(drop=True).head(num_top_venues))\n",
    "    print('\\n')"
   ]
  },
  {
   "cell_type": "code",
   "execution_count": 76,
   "metadata": {},
   "outputs": [],
   "source": [
    "# Let's put that into a pandas dataframe\n",
    "def return_most_common_venues(row, num_top_venues):\n",
    "    row_categories = row.iloc[1:]\n",
    "    row_categories_sorted = row_categories.sort_values(ascending=False)\n",
    "    \n",
    "    return row_categories_sorted.index.values[0:num_top_venues]"
   ]
  },
  {
   "cell_type": "code",
   "execution_count": null,
   "metadata": {},
   "outputs": [],
   "source": [
    "# Now let's create the new dataframe and display the top 10 venues for each neighborhood.\n",
    "num_top_venues = 10\n",
    "\n",
    "indicators = ['st', 'nd', 'rd']\n",
    "\n",
    "# create columns according to number of top venues\n",
    "columns = ['Neighborhood']\n",
    "for ind in np.arange(num_top_venues):\n",
    "    try:\n",
    "        columns.append('{}{} Most Common Venue'.format(ind+1, indicators[ind]))\n",
    "    except:\n",
    "        columns.append('{}th Most Common Venue'.format(ind+1))\n",
    "\n",
    "# create a new dataframe\n",
    "neighborhoods_venues_sorted = pd.DataFrame(columns=columns)\n",
    "neighborhoods_venues_sorted['Neighborhood'] = manhattan_grouped['Neighborhood']\n",
    "\n",
    "for ind in np.arange(manhattan_grouped.shape[0]):\n",
    "    neighborhoods_venues_sorted.iloc[ind, 1:] = return_most_common_venues(manhattan_grouped.iloc[ind, :], num_top_venues)\n",
    "\n",
    "neighborhoods_venues_sorted"
   ]
  },
  {
   "cell_type": "markdown",
   "metadata": {},
   "source": [
    "CLUSTERING NEIGHBORHOODS"
   ]
  },
  {
   "cell_type": "markdown",
   "metadata": {},
   "source": [
    "Manhattan"
   ]
  },
  {
   "cell_type": "code",
   "execution_count": null,
   "metadata": {},
   "outputs": [],
   "source": [
    "# Run k-means to cluster the neighborhood into 5 clusters.\n",
    "# set number of clusters\n",
    "kclusters = 5\n",
    "\n",
    "manhattan_grouped_clustering = manhattan_grouped.drop('Neighborhood', 1)\n",
    "\n",
    "# run k-means clustering\n",
    "kmeans = KMeans(n_clusters=kclusters, random_state=0).fit(manhattan_grouped_clustering)\n",
    "\n",
    "# check cluster labels generated for each row in the dataframe\n",
    "kmeans.labels_[0:10] "
   ]
  },
  {
   "cell_type": "code",
   "execution_count": null,
   "metadata": {},
   "outputs": [],
   "source": [
    "# Let's create a new dataframe that includes the cluster as well as the top 10 venues for each neighborhood\n",
    "manhattan_merged = manhattan_data\n",
    "\n",
    "# add clustering labels\n",
    "manhattan_merged['Cluster Labels'] = kmeans.labels_\n",
    "\n",
    "# merge toronto_grouped with toronto_data to add latitude/longitude for each neighborhood\n",
    "manhattan_merged = manhattan_merged.join(neighborhoods_venues_sorted.set_index('Neighborhood'), on='Neighborhood')\n",
    "\n",
    "manhattan_merged.head() # check the last columns!"
   ]
  },
  {
   "cell_type": "code",
   "execution_count": null,
   "metadata": {},
   "outputs": [],
   "source": [
    "# create map\n",
    "map_clusters = folium.Map(location=[latitude, longitude], zoom_start=11)\n",
    "\n",
    "# set color scheme for the clusters\n",
    "x = np.arange(kclusters)\n",
    "ys = [i+x+(i*x)**2 for i in range(kclusters)]\n",
    "colors_array = cm.rainbow(np.linspace(0, 1, len(ys)))\n",
    "rainbow = [colors.rgb2hex(i) for i in colors_array]\n",
    "\n",
    "# add markers to the map\n",
    "markers_colors = []\n",
    "for lat, lon, poi, cluster in zip(manhattan_merged['Latitude'], manhattan_merged['Longitude'], manhattan_merged['Neighborhood'], manhattan_merged['Cluster Labels']):\n",
    "    label = folium.Popup(str(poi) + ' Cluster ' + str(cluster), parse_html=True)\n",
    "    folium.CircleMarker(\n",
    "        [lat, lon],\n",
    "        radius=5,\n",
    "        popup=label,\n",
    "        color=rainbow[cluster-1],\n",
    "        fill=True,\n",
    "        fill_color=rainbow[cluster-1],\n",
    "        fill_opacity=0.7).add_to(map_clusters)\n",
    "       \n",
    "map_clusters"
   ]
  },
  {
   "cell_type": "markdown",
   "metadata": {},
   "source": [
    "EXAMINE CLUSTERS"
   ]
  },
  {
   "cell_type": "markdown",
   "metadata": {},
   "source": [
    "Manhattan"
   ]
  },
  {
   "cell_type": "markdown",
   "metadata": {},
   "source": [
    "Cluster 1(Residential)"
   ]
  },
  {
   "cell_type": "code",
   "execution_count": null,
   "metadata": {},
   "outputs": [],
   "source": [
    "manhattan_merged.loc[manhattan_merged['Cluster Labels'] == 0, manhattan_merged.columns[[1] + list(range(5, manhattan_merged.shape[1]))]]"
   ]
  },
  {
   "cell_type": "markdown",
   "metadata": {},
   "source": [
    "Commercial Places"
   ]
  },
  {
   "cell_type": "code",
   "execution_count": null,
   "metadata": {},
   "outputs": [],
   "source": [
    "manhattan_merged.loc[manhattan_merged['Cluster Labels'] == 1, manhattan_merged.columns[[1] + list(range(5, manhattan_merged.shape[1]))]]"
   ]
  },
  {
   "cell_type": "markdown",
   "metadata": {},
   "source": [
    "Tourist Areas & Hubs"
   ]
  },
  {
   "cell_type": "code",
   "execution_count": null,
   "metadata": {},
   "outputs": [],
   "source": [
    "manhattan_merged.loc[manhattan_merged['Cluster Labels'] == 2, manhattan_merged.columns[[1] + list(range(5, manhattan_merged.shape[1]))]]"
   ]
  },
  {
   "cell_type": "markdown",
   "metadata": {},
   "source": [
    "Center Acivity"
   ]
  },
  {
   "cell_type": "code",
   "execution_count": null,
   "metadata": {},
   "outputs": [],
   "source": [
    "manhattan_merged.loc[manhattan_merged['Cluster Labels'] == 3, manhattan_merged.columns[[1] + list(range(5, manhattan_merged.shape[1]))]]"
   ]
  },
  {
   "cell_type": "markdown",
   "metadata": {},
   "source": [
    "Cultural & Going Out Places"
   ]
  },
  {
   "cell_type": "code",
   "execution_count": null,
   "metadata": {},
   "outputs": [],
   "source": [
    "manhattan_merged.loc[manhattan_merged['Cluster Labels'] == 4, manhattan_merged.columns[[1] + list(range(5, manhattan_merged.shape[1]))]]"
   ]
  }
 ],
 "metadata": {
  "kernelspec": {
   "display_name": "Python 3.7",
   "language": "python",
   "name": "python3"
  },
  "language_info": {
   "codemirror_mode": {
    "name": "ipython",
    "version": 3
   },
   "file_extension": ".py",
   "mimetype": "text/x-python",
   "name": "python",
   "nbconvert_exporter": "python",
   "pygments_lexer": "ipython3",
   "version": "3.7.9"
  }
 },
 "nbformat": 4,
 "nbformat_minor": 1
}
