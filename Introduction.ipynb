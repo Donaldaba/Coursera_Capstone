{
 "cells": [
  {
   "cell_type": "markdown",
   "metadata": {
    "collapsed": true
   },
   "source": [
    "# PROBLEM & BACKGROUND"
   ]
  },
  {
   "cell_type": "markdown",
   "metadata": {},
   "source": [
    "New York City and the city of Toronto are two of the well known and famous city in the world. They both have similarities and dissimilarities. Sure thing is that they are Both multicultural and financial hubs of their respective countries. We would like to eplore what common aspects they have in therm of business opportunities.\n",
    "Nowarday, open a business is not only a matter of finacial issue, it has to deal with the location where the business is supposed to take place. Every city in the world has it specificity so that it is appropriate to a certairn type of business. Depending of the business one want to open between these two cities, we can find information that can help to know wich location will be the best place. Let's make some comparison base on the information we can find, to chose a ideal place to open a new restaurant."
   ]
  }
 ],
 "metadata": {
  "kernelspec": {
   "display_name": "Python 3.7",
   "language": "python",
   "name": "python3"
  },
  "language_info": {
   "codemirror_mode": {
    "name": "ipython",
    "version": 3
   },
   "file_extension": ".py",
   "mimetype": "text/x-python",
   "name": "python",
   "nbconvert_exporter": "python",
   "pygments_lexer": "ipython3",
   "version": "3.7.9"
  }
 },
 "nbformat": 4,
 "nbformat_minor": 1
}
